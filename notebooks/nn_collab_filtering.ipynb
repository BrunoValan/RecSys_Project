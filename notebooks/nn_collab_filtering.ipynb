{
 "cells": [
  {
   "cell_type": "code",
   "execution_count": 1,
   "id": "P__vj3-38nJk",
   "metadata": {
    "id": "P__vj3-38nJk"
   },
   "outputs": [],
   "source": [
    "import os\n",
    "import urllib\n",
    "import zipfile\n",
    "import time\n",
    "\n",
    "import torch\n",
    "import numpy as np\n",
    "import pandas as pd\n",
    "import torch.nn as nn\n",
    "import torch.nn.functional as F\n",
    "import torch.optim as optim\n",
    "from torch.utils.data import DataLoader, TensorDataset\n",
    "from sklearn.model_selection import train_test_split\n",
    "import matplotlib.pyplot as plt"
   ]
  },
  {
   "cell_type": "code",
   "execution_count": 2,
   "id": "762b45df-df74-460e-a3db-8edb20914887",
   "metadata": {},
   "outputs": [
    {
     "name": "stderr",
     "output_type": "stream",
     "text": [
      "/opt/apps/rhel8/Anaconda3-2021.05/lib/python3.8/site-packages/IPython/core/interactiveshell.py:3165: DtypeWarning: Columns (66,67) have mixed types.Specify dtype option on import or set low_memory=False.\n",
      "  has_raised = await self.run_ast_nodes(code_ast.body, cell_name,\n"
     ]
    },
    {
     "name": "stdout",
     "output_type": "stream",
     "text": [
      "   reviewer_id  id  ratings                        listing_url\n",
      "0            0   0      4.5  https://www.airbnb.com/rooms/2818\n",
      "1            1   0      5.0  https://www.airbnb.com/rooms/2818\n",
      "2            2   0      5.0  https://www.airbnb.com/rooms/2818\n",
      "3            3   0      5.0  https://www.airbnb.com/rooms/2818\n",
      "4            4   0      5.0  https://www.airbnb.com/rooms/2818\n"
     ]
    }
   ],
   "source": [
    "ratings = pd.read_csv('combined_data_fin.csv')\n",
    "ratings['reviewer_id'] = pd.factorize(ratings['reviewer_id'])[0]\n",
    "ratings['id'] = pd.factorize(ratings['id'])[0]\n",
    "ratings = ratings.loc[:,['reviewer_id','id','ratings','listing_url']]\n",
    "print(ratings.head())\n"
   ]
  },
  {
   "cell_type": "code",
   "execution_count": 4,
   "id": "8231301b-c37e-42b7-bf75-4cb897741424",
   "metadata": {},
   "outputs": [],
   "source": [
    "ratings.to_csv(\"reviews_airbnb.csv\")"
   ]
  },
  {
   "cell_type": "code",
   "execution_count": 3,
   "id": "072209a9",
   "metadata": {
    "id": "072209a9"
   },
   "outputs": [],
   "source": [
    "X = ratings.loc[:,['reviewer_id','id']]\n",
    "y = ratings.loc[:,'ratings']\n",
    "\n",
    "# Split our data into training and test sets\n",
    "X_train, X_val, y_train, y_val = train_test_split(X,y,random_state=0, test_size=0.2)"
   ]
  },
  {
   "cell_type": "code",
   "execution_count": 4,
   "id": "44b041d6",
   "metadata": {
    "id": "44b041d6"
   },
   "outputs": [],
   "source": [
    "def prep_dataloaders(X_train,y_train,X_val,y_val,batch_size):\n",
    "    # Convert training and test data to TensorDatasets\n",
    "    trainset = TensorDataset(torch.from_numpy(np.array(X_train)).long(), \n",
    "                            torch.from_numpy(np.array(y_train)).float())\n",
    "    valset = TensorDataset(torch.from_numpy(np.array(X_val)).long(), \n",
    "                            torch.from_numpy(np.array(y_val)).float())\n",
    "\n",
    "    # Create Dataloaders for our training and test data to allow us to iterate over minibatches \n",
    "    trainloader = torch.utils.data.DataLoader(trainset, batch_size=batch_size, shuffle=True)\n",
    "    valloader = torch.utils.data.DataLoader(valset, batch_size=batch_size, shuffle=False)\n",
    "\n",
    "    return trainloader, valloader\n",
    "\n",
    "batchsize = 64\n",
    "trainloader,valloader = prep_dataloaders(X_train,y_train,X_val,y_val,batchsize)"
   ]
  },
  {
   "cell_type": "code",
   "execution_count": 5,
   "id": "08fad98d",
   "metadata": {
    "id": "08fad98d"
   },
   "outputs": [],
   "source": [
    "class NNColabFiltering(nn.Module):\n",
    "    \n",
    "    def __init__(self, n_users, n_items, embedding_dim_users, embedding_dim_items, n_activations, rating_range):\n",
    "        super().__init__()\n",
    "        self.user_embeddings = nn.Embedding(num_embeddings=n_users,embedding_dim=embedding_dim_users)\n",
    "        self.item_embeddings = nn.Embedding(num_embeddings=n_items,embedding_dim=embedding_dim_items)\n",
    "        self.fc1 = nn.Linear(embedding_dim_users+embedding_dim_items,n_activations)\n",
    "        self.fc2 = nn.Linear(n_activations,1)\n",
    "        self.rating_range = rating_range\n",
    "\n",
    "    def forward(self, X):\n",
    "        # Get embeddings for minibatch\n",
    "        embedded_users = self.user_embeddings(X[:,0])\n",
    "        embedded_items = self.item_embeddings(X[:,1])\n",
    "        # Concatenate user and item embeddings\n",
    "        embeddings = torch.cat([embedded_users,embedded_items],dim=1)\n",
    "        # Pass embeddings through network\n",
    "        preds = self.fc1(embeddings)\n",
    "        preds = F.relu(preds)\n",
    "        preds = self.fc2(preds)\n",
    "        # Scale predicted ratings to target-range [low,high]\n",
    "        preds = torch.sigmoid(preds) * (self.rating_range[1]-self.rating_range[0]) + self.rating_range[0]\n",
    "        return preds\n",
    "        \n"
   ]
  },
  {
   "cell_type": "code",
   "execution_count": 6,
   "id": "9e38d014",
   "metadata": {
    "id": "9e38d014"
   },
   "outputs": [],
   "source": [
    "def train_model(model, criterion, optimizer, dataloaders, device, num_epochs=5, scheduler=None):\n",
    "    model = model.to(device) # Send model to GPU if available\n",
    "    since = time.time()\n",
    "\n",
    "    costpaths = {'train':[],'val':[]}\n",
    "    #new\n",
    "    best_val_loss = float('inf')\n",
    "    for epoch in range(num_epochs):\n",
    "        print('Epoch {}/{}'.format(epoch, num_epochs - 1))\n",
    "        print('-' * 10)\n",
    "\n",
    "        # Each epoch has a training and validation phase\n",
    "        for phase in ['train', 'val']:\n",
    "            if phase == 'train':\n",
    "                model.train()  # Set model to training mode\n",
    "            else:\n",
    "                model.eval()   # Set model to evaluate mode\n",
    "\n",
    "            running_loss = 0.0\n",
    "\n",
    "            # Get the inputs and labels, and send to GPU if available\n",
    "            for (inputs,labels) in dataloaders[phase]:\n",
    "                inputs = inputs.to(device)\n",
    "                labels = labels.to(device)\n",
    "\n",
    "                # Zero the weight gradients\n",
    "                optimizer.zero_grad()\n",
    "\n",
    "                # Forward pass to get outputs and calculate loss\n",
    "                # Track gradient only for training data\n",
    "                with torch.set_grad_enabled(phase == 'train'):\n",
    "                    outputs = model.forward(inputs).view(-1)\n",
    "                    loss = criterion(outputs, labels)\n",
    "\n",
    "                    # Backpropagation to get the gradients with respect to each weight\n",
    "                    # Only if in train\n",
    "                    if phase == 'train':\n",
    "                        loss.backward()\n",
    "                        # Update the weights\n",
    "                        optimizer.step()\n",
    "\n",
    "                # Convert loss into a scalar and add it to running_loss\n",
    "                running_loss += np.sqrt(loss.item()) * labels.size(0)\n",
    "\n",
    "            # Step along learning rate scheduler when in train\n",
    "            if (phase == 'train') and (scheduler is not None):\n",
    "                scheduler.step()\n",
    "\n",
    "            # Calculate and display average loss and accuracy for the epoch\n",
    "            epoch_loss = running_loss / len(dataloaders[phase].dataset)\n",
    "            costpaths[phase].append(epoch_loss)\n",
    "            print('{} loss: {:.4f}'.format(phase, epoch_loss))\n",
    "            #new\n",
    "            if phase == 'val' and epoch_loss < best_val_loss:\n",
    "                print('Validation loss decreased from {:.4f} to {:.4f}. Saving model...'.format(best_val_loss, epoch_loss))\n",
    "                best_val_loss = epoch_loss\n",
    "                torch.save(model.state_dict(), 'best_model_weights.pth')\n",
    "    time_elapsed = time.time() - since\n",
    "    print('Training complete in {:.0f}m {:.0f}s'.format(\n",
    "        time_elapsed // 60, time_elapsed % 60))\n",
    "\n",
    "    return costpaths"
   ]
  },
  {
   "cell_type": "code",
   "execution_count": 7,
   "id": "d7f7b44a",
   "metadata": {
    "colab": {
     "base_uri": "https://localhost:8080/"
    },
    "id": "d7f7b44a",
    "outputId": "79379e20-eb60-4164-ac7a-de85cd0e2b15"
   },
   "outputs": [
    {
     "name": "stdout",
     "output_type": "stream",
     "text": [
      "Epoch 0/9\n",
      "----------\n",
      "train loss: 0.6488\n",
      "val loss: 0.6375\n",
      "Validation loss decreased from inf to 0.6375. Saving model...\n",
      "Epoch 1/9\n",
      "----------\n",
      "train loss: 0.6362\n",
      "val loss: 0.6343\n",
      "Validation loss decreased from 0.6375 to 0.6343. Saving model...\n",
      "Epoch 2/9\n",
      "----------\n",
      "train loss: 0.6337\n",
      "val loss: 0.6334\n",
      "Validation loss decreased from 0.6343 to 0.6334. Saving model...\n",
      "Epoch 3/9\n",
      "----------\n",
      "train loss: 0.6325\n",
      "val loss: 0.6326\n",
      "Validation loss decreased from 0.6334 to 0.6326. Saving model...\n",
      "Epoch 4/9\n",
      "----------\n",
      "train loss: 0.6320\n",
      "val loss: 0.6333\n",
      "Epoch 5/9\n",
      "----------\n",
      "train loss: 0.6323\n",
      "val loss: 0.6324\n",
      "Validation loss decreased from 0.6326 to 0.6324. Saving model...\n",
      "Epoch 6/9\n",
      "----------\n",
      "train loss: 0.6320\n",
      "val loss: 0.6325\n",
      "Epoch 7/9\n",
      "----------\n",
      "train loss: 0.6320\n",
      "val loss: 0.6324\n",
      "Validation loss decreased from 0.6324 to 0.6324. Saving model...\n",
      "Epoch 8/9\n",
      "----------\n",
      "train loss: 0.6320\n",
      "val loss: 0.6322\n",
      "Validation loss decreased from 0.6324 to 0.6322. Saving model...\n",
      "Epoch 9/9\n",
      "----------\n",
      "train loss: 0.6321\n",
      "val loss: 0.6324\n",
      "Training complete in 5m 2s\n"
     ]
    }
   ],
   "source": [
    "# Train the model\n",
    "dataloaders = {'train':trainloader, 'val':valloader}\n",
    "n_users = X.loc[:,'reviewer_id'].max()+1\n",
    "n_items = X.loc[:,'id'].max()+1\n",
    "model = NNColabFiltering(n_users,n_items,embedding_dim_users=50, embedding_dim_items=50, n_activations = 100,rating_range=[0.,5.])\n",
    "criterion = nn.MSELoss()\n",
    "lr=0.001\n",
    "n_epochs=10\n",
    "wd=1e-3\n",
    "optimizer = optim.Adam(model.parameters(), lr=lr, weight_decay=wd)\n",
    "device = torch.device(\"cuda\" if torch.cuda.is_available() else \"cpu\")\n",
    "\n",
    "cost_paths = train_model(model,criterion,optimizer,dataloaders, device,n_epochs, scheduler=None)\n"
   ]
  },
  {
   "cell_type": "code",
   "execution_count": 8,
   "id": "5567b00d",
   "metadata": {
    "colab": {
     "base_uri": "https://localhost:8080/",
     "height": 350
    },
    "id": "5567b00d",
    "outputId": "2afc2630-1f4f-4f3e-af29-c2094516a2d5"
   },
   "outputs": [
    {
     "data": {
      "image/png": "[encoded data removed]",
      "text/plain": [
       "<Figure size 1080x360 with 2 Axes>"
      ]
     },
     "metadata": {
      "needs_background": "light"
     },
     "output_type": "display_data"
    }
   ],
   "source": [
    "# Plot the cost over training and validation sets\n",
    "fig,ax = plt.subplots(1,2,figsize=(15,5))\n",
    "for i,key in enumerate(cost_paths.keys()):\n",
    "    ax_sub=ax[i%3]\n",
    "    ax_sub.plot(cost_paths[key])\n",
    "    ax_sub.set_title(key)\n",
    "    ax_sub.set_xlabel('Epoch')\n",
    "    ax_sub.set_ylabel('Loss')\n",
    "plt.show()"
   ]
  },
  {
   "cell_type": "code",
   "execution_count": null,
   "id": "d37b10aa-5032-411c-a633-06e1f5518ece",
   "metadata": {},
   "outputs": [],
   "source": []
  }
 ],
 "metadata": {
  "accelerator": "GPU",
  "colab": {
   "name": "nn_collab_filtering.ipynb",
   "provenance": []
  },
  "kernelspec": {
   "display_name": "Python 3",
   "language": "python",
   "name": "python3"
  },
  "language_info": {
   "codemirror_mode": {
    "name": "ipython",
    "version": 3
   },
   "file_extension": ".py",
   "mimetype": "text/x-python",
   "name": "python",
   "nbconvert_exporter": "python",
   "pygments_lexer": "ipython3",
   "version": "3.8.8"
  }
 },
 "nbformat": 4,
 "nbformat_minor": 5
}
