{
 "cells": [
  {
   "cell_type": "code",
   "execution_count": 1,
   "id": "522223bf",
   "metadata": {},
   "outputs": [],
   "source": [
    "import pandas as pd\n",
    "import nltk\n",
    "from nltk.sentiment.vader import SentimentIntensityAnalyzer"
   ]
  },
  {
   "cell_type": "code",
   "execution_count": 2,
   "id": "83193c35",
   "metadata": {},
   "outputs": [
    {
     "data": {
      "text/plain": [
       "(431830, 6)"
      ]
     },
     "execution_count": 2,
     "metadata": {},
     "output_type": "execute_result"
    }
   ],
   "source": [
    "df1=pd.read_csv(\"reviews_det.csv\")\n",
    "df1 = df1.rename(columns={'id': 'review_id'})\n",
    "df1=df1.rename(columns={'listing_id': 'id'})\n",
    "df1.head()\n",
    "df1.shape"
   ]
  },
  {
   "cell_type": "code",
   "execution_count": 3,
   "id": "21f4c363",
   "metadata": {},
   "outputs": [
    {
     "name": "stderr",
     "output_type": "stream",
     "text": [
      "/opt/apps/rhel8/Anaconda3-2021.05/lib/python3.8/site-packages/IPython/core/interactiveshell.py:3165: DtypeWarning: Columns (87) have mixed types.Specify dtype option on import or set low_memory=False.\n",
      "  has_raised = await self.run_ast_nodes(code_ast.body, cell_name,\n"
     ]
    },
    {
     "data": {
      "text/plain": [
       "(20030, 96)"
      ]
     },
     "execution_count": 3,
     "metadata": {},
     "output_type": "execute_result"
    }
   ],
   "source": [
    "df2=pd.read_csv(\"listing_det.csv\")\n",
    "df2.head()\n",
    "df2.shape"
   ]
  },
  {
   "cell_type": "code",
   "execution_count": 4,
   "id": "d12b71b5",
   "metadata": {},
   "outputs": [
    {
     "data": {
      "text/html": [
       "<div>\n",
       "<style scoped>\n",
       "    .dataframe tbody tr th:only-of-type {\n",
       "        vertical-align: middle;\n",
       "    }\n",
       "\n",
       "    .dataframe tbody tr th {\n",
       "        vertical-align: top;\n",
       "    }\n",
       "\n",
       "    .dataframe thead th {\n",
       "        text-align: right;\n",
       "    }\n",
       "</style>\n",
       "<table border=\"1\" class=\"dataframe\">\n",
       "  <thead>\n",
       "    <tr style=\"text-align: right;\">\n",
       "      <th></th>\n",
       "      <th>id</th>\n",
       "      <th>review_id</th>\n",
       "      <th>date</th>\n",
       "      <th>reviewer_id</th>\n",
       "      <th>reviewer_name</th>\n",
       "      <th>comments</th>\n",
       "      <th>listing_url</th>\n",
       "      <th>scrape_id</th>\n",
       "      <th>last_scraped</th>\n",
       "      <th>name</th>\n",
       "      <th>...</th>\n",
       "      <th>requires_license</th>\n",
       "      <th>license</th>\n",
       "      <th>jurisdiction_names</th>\n",
       "      <th>instant_bookable</th>\n",
       "      <th>is_business_travel_ready</th>\n",
       "      <th>cancellation_policy</th>\n",
       "      <th>require_guest_profile_picture</th>\n",
       "      <th>require_guest_phone_verification</th>\n",
       "      <th>calculated_host_listings_count</th>\n",
       "      <th>reviews_per_month</th>\n",
       "    </tr>\n",
       "  </thead>\n",
       "  <tbody>\n",
       "    <tr>\n",
       "      <th>0</th>\n",
       "      <td>2818</td>\n",
       "      <td>1191</td>\n",
       "      <td>3/30/2009</td>\n",
       "      <td>10952</td>\n",
       "      <td>Lam</td>\n",
       "      <td>Daniel is really cool. The place was nice and ...</td>\n",
       "      <td>https://www.airbnb.com/rooms/2818</td>\n",
       "      <td>2.018120e+13</td>\n",
       "      <td>12/6/2018</td>\n",
       "      <td>Quiet Garden View Room &amp; Super Fast WiFi</td>\n",
       "      <td>...</td>\n",
       "      <td>f</td>\n",
       "      <td>NaN</td>\n",
       "      <td>{Amsterdam}</td>\n",
       "      <td>t</td>\n",
       "      <td>f</td>\n",
       "      <td>strict_14_with_grace_period</td>\n",
       "      <td>f</td>\n",
       "      <td>f</td>\n",
       "      <td>1</td>\n",
       "      <td>2.1</td>\n",
       "    </tr>\n",
       "    <tr>\n",
       "      <th>1</th>\n",
       "      <td>2818</td>\n",
       "      <td>1771</td>\n",
       "      <td>4/24/2009</td>\n",
       "      <td>12798</td>\n",
       "      <td>Alice</td>\n",
       "      <td>Daniel is the most amazing host! His place is ...</td>\n",
       "      <td>https://www.airbnb.com/rooms/2818</td>\n",
       "      <td>2.018120e+13</td>\n",
       "      <td>12/6/2018</td>\n",
       "      <td>Quiet Garden View Room &amp; Super Fast WiFi</td>\n",
       "      <td>...</td>\n",
       "      <td>f</td>\n",
       "      <td>NaN</td>\n",
       "      <td>{Amsterdam}</td>\n",
       "      <td>t</td>\n",
       "      <td>f</td>\n",
       "      <td>strict_14_with_grace_period</td>\n",
       "      <td>f</td>\n",
       "      <td>f</td>\n",
       "      <td>1</td>\n",
       "      <td>2.1</td>\n",
       "    </tr>\n",
       "    <tr>\n",
       "      <th>2</th>\n",
       "      <td>2818</td>\n",
       "      <td>1989</td>\n",
       "      <td>5/3/2009</td>\n",
       "      <td>11869</td>\n",
       "      <td>Natalja</td>\n",
       "      <td>We had such a great time in Amsterdam. Daniel ...</td>\n",
       "      <td>https://www.airbnb.com/rooms/2818</td>\n",
       "      <td>2.018120e+13</td>\n",
       "      <td>12/6/2018</td>\n",
       "      <td>Quiet Garden View Room &amp; Super Fast WiFi</td>\n",
       "      <td>...</td>\n",
       "      <td>f</td>\n",
       "      <td>NaN</td>\n",
       "      <td>{Amsterdam}</td>\n",
       "      <td>t</td>\n",
       "      <td>f</td>\n",
       "      <td>strict_14_with_grace_period</td>\n",
       "      <td>f</td>\n",
       "      <td>f</td>\n",
       "      <td>1</td>\n",
       "      <td>2.1</td>\n",
       "    </tr>\n",
       "    <tr>\n",
       "      <th>3</th>\n",
       "      <td>2818</td>\n",
       "      <td>2797</td>\n",
       "      <td>5/18/2009</td>\n",
       "      <td>14064</td>\n",
       "      <td>Enrique</td>\n",
       "      <td>Very professional operation. Room is very clea...</td>\n",
       "      <td>https://www.airbnb.com/rooms/2818</td>\n",
       "      <td>2.018120e+13</td>\n",
       "      <td>12/6/2018</td>\n",
       "      <td>Quiet Garden View Room &amp; Super Fast WiFi</td>\n",
       "      <td>...</td>\n",
       "      <td>f</td>\n",
       "      <td>NaN</td>\n",
       "      <td>{Amsterdam}</td>\n",
       "      <td>t</td>\n",
       "      <td>f</td>\n",
       "      <td>strict_14_with_grace_period</td>\n",
       "      <td>f</td>\n",
       "      <td>f</td>\n",
       "      <td>1</td>\n",
       "      <td>2.1</td>\n",
       "    </tr>\n",
       "    <tr>\n",
       "      <th>4</th>\n",
       "      <td>2818</td>\n",
       "      <td>3151</td>\n",
       "      <td>5/25/2009</td>\n",
       "      <td>17977</td>\n",
       "      <td>Sherwin</td>\n",
       "      <td>Daniel is highly recommended.  He provided all...</td>\n",
       "      <td>https://www.airbnb.com/rooms/2818</td>\n",
       "      <td>2.018120e+13</td>\n",
       "      <td>12/6/2018</td>\n",
       "      <td>Quiet Garden View Room &amp; Super Fast WiFi</td>\n",
       "      <td>...</td>\n",
       "      <td>f</td>\n",
       "      <td>NaN</td>\n",
       "      <td>{Amsterdam}</td>\n",
       "      <td>t</td>\n",
       "      <td>f</td>\n",
       "      <td>strict_14_with_grace_period</td>\n",
       "      <td>f</td>\n",
       "      <td>f</td>\n",
       "      <td>1</td>\n",
       "      <td>2.1</td>\n",
       "    </tr>\n",
       "  </tbody>\n",
       "</table>\n",
       "<p>5 rows × 101 columns</p>\n",
       "</div>"
      ],
      "text/plain": [
       "     id  review_id       date  reviewer_id reviewer_name  \\\n",
       "0  2818       1191  3/30/2009        10952           Lam   \n",
       "1  2818       1771  4/24/2009        12798         Alice   \n",
       "2  2818       1989   5/3/2009        11869       Natalja   \n",
       "3  2818       2797  5/18/2009        14064       Enrique   \n",
       "4  2818       3151  5/25/2009        17977       Sherwin   \n",
       "\n",
       "                                            comments  \\\n",
       "0  Daniel is really cool. The place was nice and ...   \n",
       "1  Daniel is the most amazing host! His place is ...   \n",
       "2  We had such a great time in Amsterdam. Daniel ...   \n",
       "3  Very professional operation. Room is very clea...   \n",
       "4  Daniel is highly recommended.  He provided all...   \n",
       "\n",
       "                         listing_url     scrape_id last_scraped  \\\n",
       "0  https://www.airbnb.com/rooms/2818  2.018120e+13    12/6/2018   \n",
       "1  https://www.airbnb.com/rooms/2818  2.018120e+13    12/6/2018   \n",
       "2  https://www.airbnb.com/rooms/2818  2.018120e+13    12/6/2018   \n",
       "3  https://www.airbnb.com/rooms/2818  2.018120e+13    12/6/2018   \n",
       "4  https://www.airbnb.com/rooms/2818  2.018120e+13    12/6/2018   \n",
       "\n",
       "                                       name  ... requires_license license  \\\n",
       "0  Quiet Garden View Room & Super Fast WiFi  ...                f     NaN   \n",
       "1  Quiet Garden View Room & Super Fast WiFi  ...                f     NaN   \n",
       "2  Quiet Garden View Room & Super Fast WiFi  ...                f     NaN   \n",
       "3  Quiet Garden View Room & Super Fast WiFi  ...                f     NaN   \n",
       "4  Quiet Garden View Room & Super Fast WiFi  ...                f     NaN   \n",
       "\n",
       "  jurisdiction_names instant_bookable is_business_travel_ready  \\\n",
       "0        {Amsterdam}                t                        f   \n",
       "1        {Amsterdam}                t                        f   \n",
       "2        {Amsterdam}                t                        f   \n",
       "3        {Amsterdam}                t                        f   \n",
       "4        {Amsterdam}                t                        f   \n",
       "\n",
       "           cancellation_policy require_guest_profile_picture  \\\n",
       "0  strict_14_with_grace_period                             f   \n",
       "1  strict_14_with_grace_period                             f   \n",
       "2  strict_14_with_grace_period                             f   \n",
       "3  strict_14_with_grace_period                             f   \n",
       "4  strict_14_with_grace_period                             f   \n",
       "\n",
       "  require_guest_phone_verification calculated_host_listings_count  \\\n",
       "0                                f                              1   \n",
       "1                                f                              1   \n",
       "2                                f                              1   \n",
       "3                                f                              1   \n",
       "4                                f                              1   \n",
       "\n",
       "  reviews_per_month  \n",
       "0               2.1  \n",
       "1               2.1  \n",
       "2               2.1  \n",
       "3               2.1  \n",
       "4               2.1  \n",
       "\n",
       "[5 rows x 101 columns]"
      ]
     },
     "execution_count": 4,
     "metadata": {},
     "output_type": "execute_result"
    }
   ],
   "source": [
    "df=pd.merge(df1, df2, on='id', how='left')\n",
    "df.head()\n"
   ]
  },
  {
   "cell_type": "code",
   "execution_count": 5,
   "id": "908fb4d6",
   "metadata": {},
   "outputs": [
    {
     "data": {
      "text/plain": [
       "(431830, 101)"
      ]
     },
     "execution_count": 5,
     "metadata": {},
     "output_type": "execute_result"
    }
   ],
   "source": [
    "df.shape"
   ]
  },
  {
   "cell_type": "code",
   "execution_count": 5,
   "id": "71c72fdb",
   "metadata": {},
   "outputs": [
    {
     "name": "stderr",
     "output_type": "stream",
     "text": [
      "[nltk_data] Downloading package vader_lexicon to\n",
      "[nltk_data]     /hpc/home/nsb37/nltk_data...\n",
      "[nltk_data]   Package vader_lexicon is already up-to-date!\n"
     ]
    }
   ],
   "source": [
    "nltk.download('vader_lexicon')\n",
    "sia = SentimentIntensityAnalyzer()"
   ]
  },
  {
   "cell_type": "code",
   "execution_count": 6,
   "id": "0c3a4d1c",
   "metadata": {},
   "outputs": [],
   "source": [
    "def get_rating(review):\n",
    "    # Compute the sentiment score using Vader\n",
    "    sentiment = sia.polarity_scores(review)['compound']\n",
    "    \n",
    "    # Convert the sentiment score to a rating from 5.0 to 0.5\n",
    "    if sentiment >= 0.9:\n",
    "        rating = 5.0\n",
    "    elif sentiment >= 0.4:\n",
    "        rating = 4.5\n",
    "    elif sentiment >= 0.1:\n",
    "        rating = 4.0\n",
    "    elif sentiment >= -0.3:\n",
    "        rating = 3.5\n",
    "    elif sentiment >= -0.8:\n",
    "        rating = 3.0\n",
    "    elif sentiment >= -0.95:\n",
    "        rating = 2.5\n",
    "    elif sentiment >= -0.99:\n",
    "        rating = 2.0\n",
    "    elif sentiment >= -1.0:\n",
    "        rating = 1.5\n",
    "    elif sentiment >= -1.5:\n",
    "        rating = 1.0\n",
    "    else:\n",
    "        rating = 0.5\n",
    "    \n",
    "    return rating\n"
   ]
  },
  {
   "cell_type": "code",
   "execution_count": 7,
   "id": "c5ceefe5-2a89-448f-bc97-86320e969d7d",
   "metadata": {},
   "outputs": [],
   "source": [
    "def get_rating(review):\n",
    "    # Compute the sentiment score using Vader\n",
    "    sentiment = sia.polarity_scores(review)['compound']\n",
    "    \n",
    "    # Convert the sentiment score to a rating from 5.0 to 0.5\n",
    "    if sentiment >= 0.9:\n",
    "        rating = 5.0\n",
    "    elif sentiment >= 0.4:\n",
    "        rating = 4.5\n",
    "    elif sentiment >= 0.1:\n",
    "        rating = 4.0\n",
    "    elif sentiment >= -0.3:\n",
    "        rating = 3.5\n",
    "    elif sentiment >= -0.8:\n",
    "        rating = 3.0\n",
    "    elif sentiment >= -0.95:\n",
    "        rating = 2.5\n",
    "    elif sentiment >= -0.99:\n",
    "        rating = 2.0\n",
    "    elif sentiment >= -1.0:\n",
    "        rating = 1.5\n",
    "    elif sentiment >= -1.5:\n",
    "        rating = 1.0\n",
    "    else:\n",
    "        rating = 0.5\n",
    "    \n",
    "    return rating\n"
   ]
  },
  {
   "cell_type": "code",
   "execution_count": 7,
   "id": "af998e0c",
   "metadata": {},
   "outputs": [],
   "source": [
    "df['ratings'] = df['comments'].astype(str).apply(get_rating)"
   ]
  },
  {
   "cell_type": "code",
   "execution_count": 8,
   "id": "e96318a2",
   "metadata": {},
   "outputs": [
    {
     "name": "stdout",
     "output_type": "stream",
     "text": [
      "5.0    230567\n",
      "4.5    118476\n",
      "3.5     54685\n",
      "3.0     10208\n",
      "4.0      9006\n",
      "2.5      5960\n",
      "2.0      2702\n",
      "1.5       226\n",
      "Name: ratings, dtype: int64\n"
     ]
    }
   ],
   "source": [
    "unique_values = df['ratings'].value_counts()\n",
    "print(unique_values)"
   ]
  },
  {
   "cell_type": "code",
   "execution_count": 18,
   "id": "aa8071de",
   "metadata": {},
   "outputs": [
    {
     "name": "stdout",
     "output_type": "stream",
     "text": [
      "5    230567\n",
      "4    109011\n",
      "2     57833\n",
      "3     18471\n",
      "1     15948\n",
      "Name: ratings, dtype: int64\n"
     ]
    }
   ],
   "source": [
    "rating_counts = df['ratings'].value_counts()\n",
    "\n",
    "# Print the results\n",
    "print(rating_counts)"
   ]
  },
  {
   "cell_type": "code",
   "execution_count": 9,
   "id": "d513cc9b",
   "metadata": {},
   "outputs": [],
   "source": [
    "df.to_csv('combined_data_fin.csv', index=False)"
   ]
  },
  {
   "cell_type": "code",
   "execution_count": null,
   "id": "23440b6e",
   "metadata": {},
   "outputs": [],
   "source": []
  }
 ],
 "metadata": {
  "kernelspec": {
   "display_name": "Python 3",
   "language": "python",
   "name": "python3"
  },
  "language_info": {
   "codemirror_mode": {
    "name": "ipython",
    "version": 3
   },
   "file_extension": ".py",
   "mimetype": "text/x-python",
   "name": "python",
   "nbconvert_exporter": "python",
   "pygments_lexer": "ipython3",
   "version": "3.8.8"
  }
 },
 "nbformat": 4,
 "nbformat_minor": 5
}
